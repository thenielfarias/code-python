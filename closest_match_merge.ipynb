{
  "nbformat": 4,
  "nbformat_minor": 0,
  "metadata": {
    "colab": {
      "name": "closest-match-merge.ipynb",
      "provenance": [],
      "collapsed_sections": []
    },
    "kernelspec": {
      "name": "python3",
      "display_name": "Python 3"
    },
    "language_info": {
      "name": "python"
    }
  },
  "cells": [
    {
      "cell_type": "code",
      "execution_count": 1,
      "metadata": {
        "id": "nG5jFsCLkvHh"
      },
      "outputs": [],
      "source": [
        "import difflib\n",
        "import pandas as pd"
      ]
    },
    {
      "cell_type": "code",
      "source": [
        "data_ota_1 = {'Nome Hotel': ['Hotel Boulevard Canasvieiras Central', 'Costa Norte Ponta Das Canas', 'Villas Jurere Hotel Boutique', 'Joaquina Beach Hotel', 'La Alhambra Apart Hotel'],\n",
        "        'Preço OTA 1 ': [500, 800, 750, 300, 350]}\n",
        "\n",
        "df_player1 = pd.DataFrame(data_ota_1)\n",
        "\n",
        "data_ota_2 = {'Nome Hotel': ['Hotel Boulevard Canasvieiras', 'Hotel Costa Norte Ponta Das Canas', 'Villas Jurere Hotel', 'Joaquina Hotel', 'La Alhambra Hotel'],\n",
        "        'Preço OTA 2 ': [550, 830, 700, 315, 350]}\n",
        "\n",
        "df_player2 = pd.DataFrame(data_ota_2)\n"
      ],
      "metadata": {
        "id": "wXEdj_c6k3v7"
      },
      "execution_count": 2,
      "outputs": []
    },
    {
      "cell_type": "code",
      "source": [
        "df_player1"
      ],
      "metadata": {
        "colab": {
          "base_uri": "https://localhost:8080/",
          "height": 202
        },
        "id": "V-f53Yu3oniQ",
        "outputId": "4f26c304-ecb6-43c7-c454-cfc2418104a6"
      },
      "execution_count": 3,
      "outputs": [
        {
          "output_type": "execute_result",
          "data": {
            "text/html": [
              "<div>\n",
              "<style scoped>\n",
              "    .dataframe tbody tr th:only-of-type {\n",
              "        vertical-align: middle;\n",
              "    }\n",
              "\n",
              "    .dataframe tbody tr th {\n",
              "        vertical-align: top;\n",
              "    }\n",
              "\n",
              "    .dataframe thead th {\n",
              "        text-align: right;\n",
              "    }\n",
              "</style>\n",
              "<table border=\"1\" class=\"dataframe\">\n",
              "  <thead>\n",
              "    <tr style=\"text-align: right;\">\n",
              "      <th></th>\n",
              "      <th>Nome Hotel</th>\n",
              "      <th>Preço OTA 1</th>\n",
              "    </tr>\n",
              "  </thead>\n",
              "  <tbody>\n",
              "    <tr>\n",
              "      <th>0</th>\n",
              "      <td>Hotel Boulevard Canasvieiras Central</td>\n",
              "      <td>500</td>\n",
              "    </tr>\n",
              "    <tr>\n",
              "      <th>1</th>\n",
              "      <td>Costa Norte Ponta Das Canas</td>\n",
              "      <td>800</td>\n",
              "    </tr>\n",
              "    <tr>\n",
              "      <th>2</th>\n",
              "      <td>Villas Jurere Hotel Boutique</td>\n",
              "      <td>750</td>\n",
              "    </tr>\n",
              "    <tr>\n",
              "      <th>3</th>\n",
              "      <td>Joaquina Beach Hotel</td>\n",
              "      <td>300</td>\n",
              "    </tr>\n",
              "    <tr>\n",
              "      <th>4</th>\n",
              "      <td>La Alhambra Apart Hotel</td>\n",
              "      <td>350</td>\n",
              "    </tr>\n",
              "  </tbody>\n",
              "</table>\n",
              "</div>"
            ],
            "text/plain": [
              "                             Nome Hotel  Preço OTA 1 \n",
              "0  Hotel Boulevard Canasvieiras Central           500\n",
              "1           Costa Norte Ponta Das Canas           800\n",
              "2          Villas Jurere Hotel Boutique           750\n",
              "3                  Joaquina Beach Hotel           300\n",
              "4               La Alhambra Apart Hotel           350"
            ]
          },
          "metadata": {},
          "execution_count": 3
        }
      ]
    },
    {
      "cell_type": "code",
      "source": [
        "df_player2"
      ],
      "metadata": {
        "colab": {
          "base_uri": "https://localhost:8080/",
          "height": 202
        },
        "id": "K-tVeHMvop5f",
        "outputId": "4d9ad9cf-d9ab-4d55-c696-c70c330f3855"
      },
      "execution_count": 4,
      "outputs": [
        {
          "output_type": "execute_result",
          "data": {
            "text/html": [
              "<div>\n",
              "<style scoped>\n",
              "    .dataframe tbody tr th:only-of-type {\n",
              "        vertical-align: middle;\n",
              "    }\n",
              "\n",
              "    .dataframe tbody tr th {\n",
              "        vertical-align: top;\n",
              "    }\n",
              "\n",
              "    .dataframe thead th {\n",
              "        text-align: right;\n",
              "    }\n",
              "</style>\n",
              "<table border=\"1\" class=\"dataframe\">\n",
              "  <thead>\n",
              "    <tr style=\"text-align: right;\">\n",
              "      <th></th>\n",
              "      <th>Nome Hotel</th>\n",
              "      <th>Preço OTA 2</th>\n",
              "    </tr>\n",
              "  </thead>\n",
              "  <tbody>\n",
              "    <tr>\n",
              "      <th>0</th>\n",
              "      <td>Hotel Boulevard Canasvieiras</td>\n",
              "      <td>550</td>\n",
              "    </tr>\n",
              "    <tr>\n",
              "      <th>1</th>\n",
              "      <td>Hotel Costa Norte Ponta Das Canas</td>\n",
              "      <td>830</td>\n",
              "    </tr>\n",
              "    <tr>\n",
              "      <th>2</th>\n",
              "      <td>Villas Jurere Hotel</td>\n",
              "      <td>700</td>\n",
              "    </tr>\n",
              "    <tr>\n",
              "      <th>3</th>\n",
              "      <td>Joaquina Hotel</td>\n",
              "      <td>315</td>\n",
              "    </tr>\n",
              "    <tr>\n",
              "      <th>4</th>\n",
              "      <td>La Alhambra Hotel</td>\n",
              "      <td>350</td>\n",
              "    </tr>\n",
              "  </tbody>\n",
              "</table>\n",
              "</div>"
            ],
            "text/plain": [
              "                          Nome Hotel  Preço OTA 2 \n",
              "0       Hotel Boulevard Canasvieiras           550\n",
              "1  Hotel Costa Norte Ponta Das Canas           830\n",
              "2                Villas Jurere Hotel           700\n",
              "3                     Joaquina Hotel           315\n",
              "4                  La Alhambra Hotel           350"
            ]
          },
          "metadata": {},
          "execution_count": 4
        }
      ]
    },
    {
      "cell_type": "code",
      "source": [
        "df1 = df_player1.copy()\n",
        "df2 = df_player2.copy()"
      ],
      "metadata": {
        "id": "y_8H6Ma_o3QY"
      },
      "execution_count": 5,
      "outputs": []
    },
    {
      "cell_type": "code",
      "source": [
        "df2['Nome Hotel'] = df2['Nome Hotel'].apply(lambda x: difflib.get_close_matches(x, df1['Nome Hotel'])[0])\n",
        "df1.merge(df2)"
      ],
      "metadata": {
        "colab": {
          "base_uri": "https://localhost:8080/",
          "height": 202
        },
        "id": "2w2OuLfOpDXR",
        "outputId": "101dadb6-db43-45ff-9ed8-54cd8fd4a70f"
      },
      "execution_count": 6,
      "outputs": [
        {
          "output_type": "execute_result",
          "data": {
            "text/html": [
              "<div>\n",
              "<style scoped>\n",
              "    .dataframe tbody tr th:only-of-type {\n",
              "        vertical-align: middle;\n",
              "    }\n",
              "\n",
              "    .dataframe tbody tr th {\n",
              "        vertical-align: top;\n",
              "    }\n",
              "\n",
              "    .dataframe thead th {\n",
              "        text-align: right;\n",
              "    }\n",
              "</style>\n",
              "<table border=\"1\" class=\"dataframe\">\n",
              "  <thead>\n",
              "    <tr style=\"text-align: right;\">\n",
              "      <th></th>\n",
              "      <th>Nome Hotel</th>\n",
              "      <th>Preço OTA 1</th>\n",
              "      <th>Preço OTA 2</th>\n",
              "    </tr>\n",
              "  </thead>\n",
              "  <tbody>\n",
              "    <tr>\n",
              "      <th>0</th>\n",
              "      <td>Hotel Boulevard Canasvieiras Central</td>\n",
              "      <td>500</td>\n",
              "      <td>550</td>\n",
              "    </tr>\n",
              "    <tr>\n",
              "      <th>1</th>\n",
              "      <td>Costa Norte Ponta Das Canas</td>\n",
              "      <td>800</td>\n",
              "      <td>830</td>\n",
              "    </tr>\n",
              "    <tr>\n",
              "      <th>2</th>\n",
              "      <td>Villas Jurere Hotel Boutique</td>\n",
              "      <td>750</td>\n",
              "      <td>700</td>\n",
              "    </tr>\n",
              "    <tr>\n",
              "      <th>3</th>\n",
              "      <td>Joaquina Beach Hotel</td>\n",
              "      <td>300</td>\n",
              "      <td>315</td>\n",
              "    </tr>\n",
              "    <tr>\n",
              "      <th>4</th>\n",
              "      <td>La Alhambra Apart Hotel</td>\n",
              "      <td>350</td>\n",
              "      <td>350</td>\n",
              "    </tr>\n",
              "  </tbody>\n",
              "</table>\n",
              "</div>"
            ],
            "text/plain": [
              "                             Nome Hotel  Preço OTA 1   Preço OTA 2 \n",
              "0  Hotel Boulevard Canasvieiras Central           500           550\n",
              "1           Costa Norte Ponta Das Canas           800           830\n",
              "2          Villas Jurere Hotel Boutique           750           700\n",
              "3                  Joaquina Beach Hotel           300           315\n",
              "4               La Alhambra Apart Hotel           350           350"
            ]
          },
          "metadata": {},
          "execution_count": 6
        }
      ]
    }
  ]
}