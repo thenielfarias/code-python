{
  "nbformat": 4,
  "nbformat_minor": 0,
  "metadata": {
    "colab": {
      "name": "Snippet-Integration-GoogleSheets.ipynb",
      "provenance": [],
      "collapsed_sections": []
    },
    "kernelspec": {
      "name": "python3",
      "display_name": "Python 3"
    },
    "language_info": {
      "name": "python"
    }
  },
  "cells": [
    {
      "cell_type": "code",
      "source": [
        "from google.colab import auth\n",
        "from oauth2client.client import GoogleCredentials as GC\n",
        "import gspread\n",
        "from gspread_dataframe import set_with_dataframe"
      ],
      "metadata": {
        "id": "Rg4O63W03c_R"
      },
      "execution_count": 13,
      "outputs": []
    },
    {
      "cell_type": "code",
      "source": [
        "# authentication\n",
        "\n",
        "auth.authenticate_user()\n",
        "gc = gspread.authorize(GC.get_application_default())"
      ],
      "metadata": {
        "id": "gzPXKbtt3pvy"
      },
      "execution_count": 14,
      "outputs": []
    },
    {
      "cell_type": "code",
      "source": [
        "import pandas as pd\n",
        "import numpy as np"
      ],
      "metadata": {
        "id": "r76RUcHX4j0I"
      },
      "execution_count": 15,
      "outputs": []
    },
    {
      "cell_type": "code",
      "source": [
        "# Dataframe with random numbers\n",
        "\n",
        "df = pd.DataFrame(np.random.randint(0,100,size=(100, 4)), columns=list('ABCD'))"
      ],
      "metadata": {
        "id": "nsyOv3cr32T7"
      },
      "execution_count": 16,
      "outputs": []
    },
    {
      "cell_type": "code",
      "execution_count": 17,
      "metadata": {
        "id": "emdE_Q15nd06"
      },
      "outputs": [],
      "source": [
        "# Save df in Google Sheets\n",
        "\n",
        "title = 'df to sheets'\n",
        "gc.create(title)  # if not exist\n",
        "sheet = gc.open(title).sheet1\n",
        "set_with_dataframe(sheet, df) "
      ]
    }
  ]
}